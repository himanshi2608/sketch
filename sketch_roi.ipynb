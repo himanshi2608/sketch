{
 "cells": [
  {
   "cell_type": "code",
   "execution_count": 2,
   "metadata": {},
   "outputs": [],
   "source": [
    "import cv2\n",
    "import numpy as np"
   ]
  },
  {
   "cell_type": "code",
   "execution_count": null,
   "metadata": {},
   "outputs": [],
   "source": [
    "cap=cv2.VideoCapture(0)\n",
    "while True:\n",
    "    ret,im=cap.read()\n",
    "    roi=cv2.selectROI(\"original\",im,False,False)\n",
    "    cv2.destroyAllWindows()\n",
    "    break\n",
    "\n",
    "while True:\n",
    "    ret,frame=cap.read()\n",
    "    \n",
    "    image=frame[int(roi[1]):int(roi[1]+roi[3]),\n",
    "                (roi[0]):int(roi[0]+roi[2])]\n",
    "    \n",
    "    image=cv2.cvtColor(image,cv2.COLOR_BGR2GRAY)\n",
    "    image=cv2.GaussianBlur(image,(7,7),0)\n",
    "    image=cv2.Canny(image,14,62)\n",
    "    ret,image=cv2.threshold(image,50,255,cv2.THRESH_BINARY_INV)\n",
    "    \n",
    "    image=cv2.cvtColor(image,cv2.COLOR_GRAY2BGR)\n",
    "    \n",
    "    frame[int(roi[1]):int(roi[1]+roi[3]),\n",
    "          int(roi[0]):int(roi[0]+roi[2])]=image\n",
    "\n",
    "\n",
    "    cv2.imshow(\"sketch\",frame)\n",
    "    if cv2.waitKey(1)==ord('q'):\n",
    "        break\n",
    "cap.release()\n",
    "cv2.destroyAllWindows()\n"
   ]
  }
 ],
 "metadata": {
  "kernelspec": {
   "display_name": "Python 3",
   "language": "python",
   "name": "python3"
  },
  "language_info": {
   "codemirror_mode": {
    "name": "ipython",
    "version": 3
   },
   "file_extension": ".py",
   "mimetype": "text/x-python",
   "name": "python",
   "nbconvert_exporter": "python",
   "pygments_lexer": "ipython3",
   "version": "3.7.6"
  }
 },
 "nbformat": 4,
 "nbformat_minor": 4
}
