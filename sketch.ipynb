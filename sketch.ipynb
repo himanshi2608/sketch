{
 "cells": [
  {
   "cell_type": "code",
   "execution_count": 2,
   "metadata": {},
   "outputs": [],
   "source": [
    "import cv2\n",
    "import numpy as np\n",
    "\n",
    "def nothing(x):\n",
    "    pass\n",
    "    \n",
    "cap=cv2.VideoCapture(0)\n",
    "cv2.namedWindow('sketch') #namedWindow just makes sure that if you wish to do something with that same window afterwards \n",
    "                            #(eg move, resize, close that window)\n",
    "\n",
    "cv2.createTrackbar('LTC','sketch',0,255,nothing)\n",
    "cv2.createTrackbar('UTC','sketch',0,255,nothing)#utc->upper threshold canny\n",
    "\n",
    "while True:\n",
    "    ret,frame=cap.read()\n",
    "    image =cv2.cvtColor(frame,cv2.COLOR_BGR2GRAY)\n",
    "    image=cv2.GaussianBlur(image,(7,7),0)  #removes the high-frequency components \n",
    "    \n",
    "    ltc=cv2.getTrackbarPos('LTC','sketch')\n",
    "    utc=cv2.getTrackbarPos('UTC','sketch')\n",
    "    \n",
    "    image=cv2.Canny(image,ltc,utc) #edge detection algorithm\n",
    "    ret,image=cv2.threshold(image,50,255,cv2.THRESH_BINARY_INV)\n",
    "    cv2.imshow(\"original\",frame)\n",
    "    cv2.imshow(\"sketch\",image)\n",
    "    if cv2.waitKey(1)==ord('q'):\n",
    "        break;\n",
    "cap.release()\n",
    "cv2.destroyAllWindows()"
   ]
  },
  {
   "cell_type": "code",
   "execution_count": null,
   "metadata": {},
   "outputs": [],
   "source": []
  }
 ],
 "metadata": {
  "kernelspec": {
   "display_name": "Python 3",
   "language": "python",
   "name": "python3"
  },
  "language_info": {
   "codemirror_mode": {
    "name": "ipython",
    "version": 3
   },
   "file_extension": ".py",
   "mimetype": "text/x-python",
   "name": "python",
   "nbconvert_exporter": "python",
   "pygments_lexer": "ipython3",
   "version": "3.7.4"
  }
 },
 "nbformat": 4,
 "nbformat_minor": 4
}
